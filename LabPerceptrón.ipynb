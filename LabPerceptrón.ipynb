{
  "nbformat": 4,
  "nbformat_minor": 0,
  "metadata": {
    "colab": {
      "provenance": [],
      "authorship_tag": "ABX9TyNI1bnSmrVwFE7sCBQ84QKU",
      "include_colab_link": true
    },
    "kernelspec": {
      "name": "python3",
      "display_name": "Python 3"
    },
    "language_info": {
      "name": "python"
    }
  },
  "cells": [
    {
      "cell_type": "markdown",
      "metadata": {
        "id": "view-in-github",
        "colab_type": "text"
      },
      "source": [
        "<a href=\"https://colab.research.google.com/github/MAU143429/IA-Laboratorios/blob/Perceptr%C3%B3n/LabPerceptr%C3%B3n.ipynb\" target=\"_parent\"><img src=\"https://colab.research.google.com/assets/colab-badge.svg\" alt=\"Open In Colab\"/></a>"
      ]
    },
    {
      "cell_type": "markdown",
      "source": [
        "# Laboratorio - Perceptrón\n",
        "\n",
        "*   Mauricio Calderón\n",
        "*   Mario Araya\n",
        "\n",
        "\n",
        "\n"
      ],
      "metadata": {
        "id": "HgxVZ5ITiYEA"
      }
    },
    {
      "cell_type": "markdown",
      "source": [
        "1. Programe el algoritmo del perceptrón genérico que reciba cualquier set de datos "
      ],
      "metadata": {
        "id": "O7xF72QYisEA"
      }
    },
    {
      "cell_type": "code",
      "execution_count": null,
      "metadata": {
        "id": "JPZf6RAe4kcy"
      },
      "outputs": [],
      "source": [
        "import numpy as np\n",
        "\n",
        "class Perceptron:\n",
        "    def __init__(self, learning_rate=0.01, max_iter=100):\n",
        "        self.learning_rate = learning_rate\n",
        "        self.max_iter = max_iter\n",
        "    \n",
        "    def fit(self, X, y):\n",
        "        n_samples, n_features = X.shape\n",
        "        self.weights = np.zeros(n_features)\n",
        "        self.bias = 0\n",
        "        for i in range(self.max_iter):\n",
        "            y_pred = np.dot(X, self.weights) + self.bias\n",
        "            y_pred = np.where(y_pred > 0, 1, -1)\n",
        "            if np.array_equal(y_pred, y):\n",
        "                print(f\"Converged in {i+1} iterations\")\n",
        "                break\n",
        "            else:\n",
        "                error = y - y_pred\n",
        "                self.weights += self.learning_rate * np.dot(X.T, error)\n",
        "                self.bias += self.learning_rate * np.sum(error)\n",
        "    \n",
        "    def predict(self, X):\n",
        "        y_pred = np.dot(X, self.weights) + self.bias\n",
        "        y_pred = np.where(y_pred > 0, 1, -1)\n",
        "        return y_pred"
      ]
    },
    {
      "cell_type": "markdown",
      "source": [
        "2. Ejecute el programa con un set de datos de al menos 1000 observaciones y 3 características"
      ],
      "metadata": {
        "id": "jFFSyeFJi0Ka"
      }
    },
    {
      "cell_type": "code",
      "source": [
        "import numpy as np\n",
        "from sklearn import datasets\n",
        "\n",
        "# Establecer la semilla aleatoria para reproducibilidad\n",
        "np.random.seed(42)\n",
        "\n",
        "# Generar un conjunto de datos aleatorios con 1000 observaciones y 3 características lineales\n",
        "x1 = np.linspace(-1, 1, 1000)\n",
        "x2 = np.linspace(0, 2, 1000)\n",
        "x3 = np.linspace(1, 3, 1000)\n",
        "dataset = np.column_stack((x1, x2, x3))\n",
        "\n",
        "# Agregar ruido aleatorio a las características\n",
        "dataset += np.random.normal(size=dataset.shape)\n",
        "random_list = np.random.choice([-1, 1], size=1000)\n",
        "\n",
        "\n",
        "perceptron = Perceptron(learning_rate=0.1, max_iter=100)\n",
        "perceptron.fit(np.array(dataset), np.array(random_list))\n",
        "\n",
        "\n",
        "\n",
        "\n",
        "\n",
        "\n",
        "\n",
        "'''\n",
        "# nuevos datos\n",
        "X_test = np.array([[5, 6], [2, 1]])\n",
        "\n",
        "print(X_test)\n",
        "# hacer predicciones\n",
        "y_pred = perceptron.predict(X_test)\n",
        "print(y_pred)\n",
        "\n",
        "'''"
      ],
      "metadata": {
        "id": "nANVZIRbi02h",
        "outputId": "0b028244-ed1e-469e-a232-55b5119335d6",
        "colab": {
          "base_uri": "https://localhost:8080/",
          "height": 35
        }
      },
      "execution_count": 18,
      "outputs": [
        {
          "output_type": "execute_result",
          "data": {
            "text/plain": [
              "'\\n# nuevos datos\\nX_test = np.array([[5, 6], [2, 1]])\\n\\nprint(X_test)\\n# hacer predicciones\\ny_pred = perceptron.predict(X_test)\\nprint(y_pred)\\n\\n'"
            ],
            "application/vnd.google.colaboratory.intrinsic+json": {
              "type": "string"
            }
          },
          "metadata": {},
          "execution_count": 18
        }
      ]
    },
    {
      "cell_type": "markdown",
      "source": [
        "3. Gráfique los datos del punto 2 con un plano que evidencie la separación de los datos y las observaciones"
      ],
      "metadata": {
        "id": "rTwD2HdCi07X"
      }
    },
    {
      "cell_type": "code",
      "source": [
        "import matplotlib.pyplot as plt\n",
        "from mpl_toolkits.mplot3d import Axes3D\n",
        "import numpy as np\n",
        "\n",
        "def graficar_3d(x, y, z):\n",
        "    # Crear figura 3D\n",
        "    fig = plt.figure()\n",
        "    ax = fig.add_subplot(111, projection='3d')\n",
        "\n",
        "    # Graficar puntos en 3D\n",
        "    ax.scatter(x, y, z)\n",
        "\n",
        "    # Configurar etiquetas de los ejes\n",
        "    ax.set_xlabel('X')\n",
        "    ax.set_ylabel('Y')\n",
        "    ax.set_zlabel('Z')\n",
        "\n",
        "    # Mostrar gráfico\n",
        "    plt.show()"
      ],
      "metadata": {
        "id": "14SbeGgPi3dR"
      },
      "execution_count": 17,
      "outputs": []
    }
  ]
}