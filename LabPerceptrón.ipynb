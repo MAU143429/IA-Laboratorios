{
  "nbformat": 4,
  "nbformat_minor": 0,
  "metadata": {
    "colab": {
      "provenance": [],
      "include_colab_link": true
    },
    "kernelspec": {
      "name": "python3",
      "display_name": "Python 3"
    },
    "language_info": {
      "name": "python"
    }
  },
  "cells": [
    {
      "cell_type": "markdown",
      "metadata": {
        "id": "view-in-github",
        "colab_type": "text"
      },
      "source": [
        "<a href=\"https://colab.research.google.com/github/MAU143429/IA-Laboratorios/blob/updated/LabPerceptr%C3%B3n.ipynb\" target=\"_parent\"><img src=\"https://colab.research.google.com/assets/colab-badge.svg\" alt=\"Open In Colab\"/></a>"
      ]
    },
    {
      "cell_type": "markdown",
      "source": [
        "# Laboratorio - Perceptrón\n",
        "\n",
        "*   Mauricio Calderón\n",
        "*   Mario Araya\n",
        "\n",
        "\n",
        "\n"
      ],
      "metadata": {
        "id": "HgxVZ5ITiYEA"
      }
    },
    {
      "cell_type": "markdown",
      "source": [
        "1. Programe el algoritmo del perceptrón genérico que reciba cualquier set de datos "
      ],
      "metadata": {
        "id": "O7xF72QYisEA"
      }
    },
    {
      "cell_type": "code",
      "execution_count": null,
      "metadata": {
        "id": "JPZf6RAe4kcy"
      },
      "outputs": [],
      "source": [
        "import numpy as np\n",
        "\n",
        "class Perceptron:\n",
        "    def __init__(self, learning_rate=0.01, max_iter=100):\n",
        "        self.learning_rate = learning_rate\n",
        "        self.max_iter = max_iter\n",
        "    \n",
        "    def fit(self, X, y):\n",
        "        n_samples, n_features = X.shape\n",
        "        self.weights = np.zeros(n_features)\n",
        "        self.bias = 0\n",
        "        for i in range(self.max_iter):\n",
        "            y_pred = np.dot(X, self.weights) + self.bias\n",
        "            y_pred = np.where(y_pred > 0, 1, -1)\n",
        "            if np.array_equal(y_pred, y):\n",
        "                print(f\"Converged in {i+1} iterations\")\n",
        "                break\n",
        "            else:\n",
        "                error = y - y_pred\n",
        "                self.weights += self.learning_rate * np.dot(X.T, error)\n",
        "                self.bias += self.learning_rate * np.sum(error)\n",
        "    \n",
        "    def predict(self, X):\n",
        "        y_pred = np.dot(X, self.weights) + self.bias\n",
        "        y_pred = np.where(y_pred > 0, 1, -1)\n",
        "        return y_pred"
      ]
    },
    {
      "cell_type": "markdown",
      "source": [
        "2. Ejecute el programa con un set de datos de al menos 1000 observaciones y 3 características"
      ],
      "metadata": {
        "id": "jFFSyeFJi0Ka"
      }
    },
    {
      "cell_type": "code",
      "source": [
        "import numpy as np\n",
        "from sklearn import datasets\n",
        "\n",
        "# Establecer la semilla aleatoria para reproducibilidad\n",
        "np.random.seed(42)\n",
        "\n",
        "# Generar un conjunto de datos aleatorios con 1000 observaciones y 3 características lineales\n",
        "x1 = np.linspace(-1, 1, 1000)\n",
        "x2 = np.linspace(0, 2, 1000)\n",
        "x3 = np.linspace(1, 3, 1000)\n",
        "dataset = np.column_stack((x1, x2, x3))\n",
        "\n",
        "# Agregar ruido aleatorio a las características\n",
        "dataset += np.random.normal(size=dataset.shape)\n",
        "\n",
        "print(dataset)\n",
        "\n",
        "perceptron = Perceptron(learning_rate=0.1, max_iter=100)\n",
        "perceptron.fit(dataset, newY)\n",
        "\n",
        "# nuevos datos\n",
        "X_test = np.array([[5, 6], [2, 1]])\n",
        "\n",
        "print(X_test)\n",
        "# hacer predicciones\n",
        "y_pred = perceptron.predict(X_test)\n",
        "print(y_pred)"
      ],
      "metadata": {
        "id": "nANVZIRbi02h",
        "outputId": "b8bdf298-5db3-43f3-8426-f4b10d9c21d2",
        "colab": {
          "base_uri": "https://localhost:8080/",
          "height": 478
        }
      },
      "execution_count": null,
      "outputs": [
        {
          "output_type": "stream",
          "name": "stdout",
          "text": [
            "[[-0.50328585 -0.1382643   1.64768854]\n",
            " [ 0.52503186 -0.23215137  0.76786505]\n",
            " [ 0.58321682  0.77143873  0.53452962]\n",
            " ...\n",
            " [ 1.59811432  2.06803286  2.78378703]\n",
            " [ 0.04607954  2.07547852  3.25575054]\n",
            " [-0.24176058  2.33417642  2.84474095]]\n"
          ]
        },
        {
          "output_type": "error",
          "ename": "ValueError",
          "evalue": "ignored",
          "traceback": [
            "\u001b[0;31m---------------------------------------------------------------------------\u001b[0m",
            "\u001b[0;31mValueError\u001b[0m                                Traceback (most recent call last)",
            "\u001b[0;32m<ipython-input-16-8a3781c15ce1>\u001b[0m in \u001b[0;36m<cell line: 20>\u001b[0;34m()\u001b[0m\n\u001b[1;32m     18\u001b[0m \u001b[0;34m\u001b[0m\u001b[0m\n\u001b[1;32m     19\u001b[0m \u001b[0mperceptron\u001b[0m \u001b[0;34m=\u001b[0m \u001b[0mPerceptron\u001b[0m\u001b[0;34m(\u001b[0m\u001b[0mlearning_rate\u001b[0m\u001b[0;34m=\u001b[0m\u001b[0;36m0.1\u001b[0m\u001b[0;34m,\u001b[0m \u001b[0mmax_iter\u001b[0m\u001b[0;34m=\u001b[0m\u001b[0;36m100\u001b[0m\u001b[0;34m)\u001b[0m\u001b[0;34m\u001b[0m\u001b[0;34m\u001b[0m\u001b[0m\n\u001b[0;32m---> 20\u001b[0;31m \u001b[0mperceptron\u001b[0m\u001b[0;34m.\u001b[0m\u001b[0mfit\u001b[0m\u001b[0;34m(\u001b[0m\u001b[0mnewX\u001b[0m\u001b[0;34m,\u001b[0m \u001b[0mnewY\u001b[0m\u001b[0;34m)\u001b[0m\u001b[0;34m\u001b[0m\u001b[0;34m\u001b[0m\u001b[0m\n\u001b[0m\u001b[1;32m     21\u001b[0m \u001b[0;34m\u001b[0m\u001b[0m\n\u001b[1;32m     22\u001b[0m \u001b[0;31m# nuevos datos\u001b[0m\u001b[0;34m\u001b[0m\u001b[0;34m\u001b[0m\u001b[0m\n",
            "\u001b[0;32m<ipython-input-9-a5adcc9a64a1>\u001b[0m in \u001b[0;36mfit\u001b[0;34m(self, X, y)\u001b[0m\n\u001b[1;32m      7\u001b[0m \u001b[0;34m\u001b[0m\u001b[0m\n\u001b[1;32m      8\u001b[0m     \u001b[0;32mdef\u001b[0m \u001b[0mfit\u001b[0m\u001b[0;34m(\u001b[0m\u001b[0mself\u001b[0m\u001b[0;34m,\u001b[0m \u001b[0mX\u001b[0m\u001b[0;34m,\u001b[0m \u001b[0my\u001b[0m\u001b[0;34m)\u001b[0m\u001b[0;34m:\u001b[0m\u001b[0;34m\u001b[0m\u001b[0;34m\u001b[0m\u001b[0m\n\u001b[0;32m----> 9\u001b[0;31m         \u001b[0mn_samples\u001b[0m\u001b[0;34m,\u001b[0m \u001b[0mn_features\u001b[0m \u001b[0;34m=\u001b[0m \u001b[0mX\u001b[0m\u001b[0;34m.\u001b[0m\u001b[0mshape\u001b[0m\u001b[0;34m\u001b[0m\u001b[0;34m\u001b[0m\u001b[0m\n\u001b[0m\u001b[1;32m     10\u001b[0m         \u001b[0mself\u001b[0m\u001b[0;34m.\u001b[0m\u001b[0mweights\u001b[0m \u001b[0;34m=\u001b[0m \u001b[0mnp\u001b[0m\u001b[0;34m.\u001b[0m\u001b[0mzeros\u001b[0m\u001b[0;34m(\u001b[0m\u001b[0mn_features\u001b[0m\u001b[0;34m)\u001b[0m\u001b[0;34m\u001b[0m\u001b[0;34m\u001b[0m\u001b[0m\n\u001b[1;32m     11\u001b[0m         \u001b[0mself\u001b[0m\u001b[0;34m.\u001b[0m\u001b[0mbias\u001b[0m \u001b[0;34m=\u001b[0m \u001b[0;36m0\u001b[0m\u001b[0;34m\u001b[0m\u001b[0;34m\u001b[0m\u001b[0m\n",
            "\u001b[0;31mValueError\u001b[0m: not enough values to unpack (expected 2, got 1)"
          ]
        }
      ]
    },
    {
      "cell_type": "markdown",
      "source": [
        "3. Gráfique los datos del punto 2 con un plano que evidencie la separación de los datos y las observaciones"
      ],
      "metadata": {
        "id": "rTwD2HdCi07X"
      }
    },
    {
      "cell_type": "code",
      "source": [],
      "metadata": {
        "id": "14SbeGgPi3dR"
      },
      "execution_count": null,
      "outputs": []
    }
  ]
}