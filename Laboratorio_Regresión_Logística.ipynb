{
  "nbformat": 4,
  "nbformat_minor": 0,
  "metadata": {
    "colab": {
      "provenance": [],
      "authorship_tag": "ABX9TyMnA13ujiaXpV9WZduT3e+a",
      "include_colab_link": true
    },
    "kernelspec": {
      "name": "python3",
      "display_name": "Python 3"
    },
    "language_info": {
      "name": "python"
    }
  },
  "cells": [
    {
      "cell_type": "markdown",
      "metadata": {
        "id": "view-in-github",
        "colab_type": "text"
      },
      "source": [
        "<a href=\"https://colab.research.google.com/github/MAU143429/IA-Laboratorios/blob/main/Laboratorio_Regresi%C3%B3n_Log%C3%ADstica.ipynb\" target=\"_parent\"><img src=\"https://colab.research.google.com/assets/colab-badge.svg\" alt=\"Open In Colab\"/></a>"
      ]
    },
    {
      "cell_type": "markdown",
      "source": [
        "# Laboratorio de Regresión logística"
      ],
      "metadata": {
        "id": "liwdPYiyvyea"
      }
    },
    {
      "cell_type": "code",
      "execution_count": 38,
      "metadata": {
        "id": "kw9fzgDIXlEo"
      },
      "outputs": [],
      "source": [
        "'''\n",
        "Importando las librerías que nos permiten generar los valores aleatorios\n",
        "y realizar los calculos.\n",
        "'''\n",
        "import random\n",
        "import decimal\n",
        "import pandas as pd\n",
        "import csv\n",
        "import io\n",
        "import statistics\n",
        "import numpy as np\n",
        "import torch"
      ]
    },
    {
      "cell_type": "markdown",
      "source": [
        "1. Seleccione un set de datos de su interés de 1 característica (o más) con un target dado y\n",
        "1000 observaciones. Puede generar los datos de forma aleatoria, tomar un set de datos de una fuente (debe indicar cuál) o puede usar los datos vistos en clase ajustados a la cantidad solicitada. (10 pts)"
      ],
      "metadata": {
        "id": "A-IJjtMrvt67"
      }
    },
    {
      "cell_type": "code",
      "source": [],
      "metadata": {
        "id": "GUIod0NFwPfg"
      },
      "execution_count": null,
      "outputs": []
    },
    {
      "cell_type": "markdown",
      "source": [
        "2. Programe el algoritmo de regresión logística. No debe utilizar ciclos, utilice operaciones\n",
        "matriciales - vectoriales mediante el uso de Numpy, Pytorch, o programadas por usted. (50 pts)."
      ],
      "metadata": {
        "id": "6HuU_u85wSqP"
      }
    },
    {
      "cell_type": "code",
      "source": [
        "# Cargar CSV con datos\n",
        "\n",
        "from google.colab import files\n",
        "uploaded = files.upload()\n",
        "\n",
        "df = pd.read_csv(io.StringIO(uploaded['data.csv'].decode('utf-8')))\n",
        "dataSet = []\n",
        "ppm = df['ppm'].tolist()\n",
        "ioh = df['ioh'].tolist()\n",
        "\n",
        "dataSet.append(ppm)\n",
        "dataSet.append(ioh)\n",
        "\n"
      ],
      "metadata": {
        "id": "8ThEQl9uwR78",
        "outputId": "98cf7abe-cf6a-4d20-bf10-e00aacec6385",
        "colab": {
          "base_uri": "https://localhost:8080/",
          "height": 73
        }
      },
      "execution_count": 41,
      "outputs": [
        {
          "output_type": "display_data",
          "data": {
            "text/plain": [
              "<IPython.core.display.HTML object>"
            ],
            "text/html": [
              "\n",
              "     <input type=\"file\" id=\"files-3f3dc9d5-0a13-425c-8e31-6bd8403b515f\" name=\"files[]\" multiple disabled\n",
              "        style=\"border:none\" />\n",
              "     <output id=\"result-3f3dc9d5-0a13-425c-8e31-6bd8403b515f\">\n",
              "      Upload widget is only available when the cell has been executed in the\n",
              "      current browser session. Please rerun this cell to enable.\n",
              "      </output>\n",
              "      <script>// Copyright 2017 Google LLC\n",
              "//\n",
              "// Licensed under the Apache License, Version 2.0 (the \"License\");\n",
              "// you may not use this file except in compliance with the License.\n",
              "// You may obtain a copy of the License at\n",
              "//\n",
              "//      http://www.apache.org/licenses/LICENSE-2.0\n",
              "//\n",
              "// Unless required by applicable law or agreed to in writing, software\n",
              "// distributed under the License is distributed on an \"AS IS\" BASIS,\n",
              "// WITHOUT WARRANTIES OR CONDITIONS OF ANY KIND, either express or implied.\n",
              "// See the License for the specific language governing permissions and\n",
              "// limitations under the License.\n",
              "\n",
              "/**\n",
              " * @fileoverview Helpers for google.colab Python module.\n",
              " */\n",
              "(function(scope) {\n",
              "function span(text, styleAttributes = {}) {\n",
              "  const element = document.createElement('span');\n",
              "  element.textContent = text;\n",
              "  for (const key of Object.keys(styleAttributes)) {\n",
              "    element.style[key] = styleAttributes[key];\n",
              "  }\n",
              "  return element;\n",
              "}\n",
              "\n",
              "// Max number of bytes which will be uploaded at a time.\n",
              "const MAX_PAYLOAD_SIZE = 100 * 1024;\n",
              "\n",
              "function _uploadFiles(inputId, outputId) {\n",
              "  const steps = uploadFilesStep(inputId, outputId);\n",
              "  const outputElement = document.getElementById(outputId);\n",
              "  // Cache steps on the outputElement to make it available for the next call\n",
              "  // to uploadFilesContinue from Python.\n",
              "  outputElement.steps = steps;\n",
              "\n",
              "  return _uploadFilesContinue(outputId);\n",
              "}\n",
              "\n",
              "// This is roughly an async generator (not supported in the browser yet),\n",
              "// where there are multiple asynchronous steps and the Python side is going\n",
              "// to poll for completion of each step.\n",
              "// This uses a Promise to block the python side on completion of each step,\n",
              "// then passes the result of the previous step as the input to the next step.\n",
              "function _uploadFilesContinue(outputId) {\n",
              "  const outputElement = document.getElementById(outputId);\n",
              "  const steps = outputElement.steps;\n",
              "\n",
              "  const next = steps.next(outputElement.lastPromiseValue);\n",
              "  return Promise.resolve(next.value.promise).then((value) => {\n",
              "    // Cache the last promise value to make it available to the next\n",
              "    // step of the generator.\n",
              "    outputElement.lastPromiseValue = value;\n",
              "    return next.value.response;\n",
              "  });\n",
              "}\n",
              "\n",
              "/**\n",
              " * Generator function which is called between each async step of the upload\n",
              " * process.\n",
              " * @param {string} inputId Element ID of the input file picker element.\n",
              " * @param {string} outputId Element ID of the output display.\n",
              " * @return {!Iterable<!Object>} Iterable of next steps.\n",
              " */\n",
              "function* uploadFilesStep(inputId, outputId) {\n",
              "  const inputElement = document.getElementById(inputId);\n",
              "  inputElement.disabled = false;\n",
              "\n",
              "  const outputElement = document.getElementById(outputId);\n",
              "  outputElement.innerHTML = '';\n",
              "\n",
              "  const pickedPromise = new Promise((resolve) => {\n",
              "    inputElement.addEventListener('change', (e) => {\n",
              "      resolve(e.target.files);\n",
              "    });\n",
              "  });\n",
              "\n",
              "  const cancel = document.createElement('button');\n",
              "  inputElement.parentElement.appendChild(cancel);\n",
              "  cancel.textContent = 'Cancel upload';\n",
              "  const cancelPromise = new Promise((resolve) => {\n",
              "    cancel.onclick = () => {\n",
              "      resolve(null);\n",
              "    };\n",
              "  });\n",
              "\n",
              "  // Wait for the user to pick the files.\n",
              "  const files = yield {\n",
              "    promise: Promise.race([pickedPromise, cancelPromise]),\n",
              "    response: {\n",
              "      action: 'starting',\n",
              "    }\n",
              "  };\n",
              "\n",
              "  cancel.remove();\n",
              "\n",
              "  // Disable the input element since further picks are not allowed.\n",
              "  inputElement.disabled = true;\n",
              "\n",
              "  if (!files) {\n",
              "    return {\n",
              "      response: {\n",
              "        action: 'complete',\n",
              "      }\n",
              "    };\n",
              "  }\n",
              "\n",
              "  for (const file of files) {\n",
              "    const li = document.createElement('li');\n",
              "    li.append(span(file.name, {fontWeight: 'bold'}));\n",
              "    li.append(span(\n",
              "        `(${file.type || 'n/a'}) - ${file.size} bytes, ` +\n",
              "        `last modified: ${\n",
              "            file.lastModifiedDate ? file.lastModifiedDate.toLocaleDateString() :\n",
              "                                    'n/a'} - `));\n",
              "    const percent = span('0% done');\n",
              "    li.appendChild(percent);\n",
              "\n",
              "    outputElement.appendChild(li);\n",
              "\n",
              "    const fileDataPromise = new Promise((resolve) => {\n",
              "      const reader = new FileReader();\n",
              "      reader.onload = (e) => {\n",
              "        resolve(e.target.result);\n",
              "      };\n",
              "      reader.readAsArrayBuffer(file);\n",
              "    });\n",
              "    // Wait for the data to be ready.\n",
              "    let fileData = yield {\n",
              "      promise: fileDataPromise,\n",
              "      response: {\n",
              "        action: 'continue',\n",
              "      }\n",
              "    };\n",
              "\n",
              "    // Use a chunked sending to avoid message size limits. See b/62115660.\n",
              "    let position = 0;\n",
              "    do {\n",
              "      const length = Math.min(fileData.byteLength - position, MAX_PAYLOAD_SIZE);\n",
              "      const chunk = new Uint8Array(fileData, position, length);\n",
              "      position += length;\n",
              "\n",
              "      const base64 = btoa(String.fromCharCode.apply(null, chunk));\n",
              "      yield {\n",
              "        response: {\n",
              "          action: 'append',\n",
              "          file: file.name,\n",
              "          data: base64,\n",
              "        },\n",
              "      };\n",
              "\n",
              "      let percentDone = fileData.byteLength === 0 ?\n",
              "          100 :\n",
              "          Math.round((position / fileData.byteLength) * 100);\n",
              "      percent.textContent = `${percentDone}% done`;\n",
              "\n",
              "    } while (position < fileData.byteLength);\n",
              "  }\n",
              "\n",
              "  // All done.\n",
              "  yield {\n",
              "    response: {\n",
              "      action: 'complete',\n",
              "    }\n",
              "  };\n",
              "}\n",
              "\n",
              "scope.google = scope.google || {};\n",
              "scope.google.colab = scope.google.colab || {};\n",
              "scope.google.colab._files = {\n",
              "  _uploadFiles,\n",
              "  _uploadFilesContinue,\n",
              "};\n",
              "})(self);\n",
              "</script> "
            ]
          },
          "metadata": {}
        },
        {
          "output_type": "stream",
          "name": "stdout",
          "text": [
            "Saving data.csv to data (13).csv\n"
          ]
        }
      ]
    },
    {
      "cell_type": "code",
      "source": [
        "# Algoritmo de Regresión Lineal utilizado en el Lab 1\n",
        "\n",
        "'''\n",
        "Método Linear Regression\n",
        "\n",
        "Este método permite generar una cantidad ¨n¨ de datos aleatorios.\n",
        "\n",
        "@param n es el numero de tuplas de datos a crear\n",
        "@return dataSet lista que contiene los datos creados.\n",
        "\n",
        "'''\n",
        "\n",
        "def LinearRegresion(DataSet):\n",
        "    \n",
        "    add_xi_yi = 0\n",
        "    add_xi_xm_2 = 0\n",
        "    averageWeight = statistics.mean(DataSet[0])\n",
        "    averageHeight = statistics.mean(DataSet[1])\n",
        "    \n",
        "    add_xi_xm = 0\n",
        "    add_yi_ym = 0\n",
        "    \n",
        "    \n",
        "    for index, element in enumerate(DataSet[0]):\n",
        "        \n",
        "        xi_xm = (element - averageWeight)\n",
        "        yi_ym = (DataSet[1][index] - averageHeight)\n",
        "        xi_xm_2 = (xi_xm**2)\n",
        "        \n",
        "        add_xi_xm += (xi_xm**2)\n",
        "        add_yi_ym += (yi_ym**2)\n",
        "        \n",
        "        add_xi_yi += xi_xm * yi_ym\n",
        "        add_xi_xm_2+=xi_xm_2\n",
        "        \n",
        "        \n",
        "    b = add_xi_yi / add_xi_xm_2\n",
        "    a = averageHeight - (b* averageWeight)\n",
        "    \n",
        "    \n",
        "    return (b ,a)\n",
        "    "
      ],
      "metadata": {
        "id": "l-JCiLeowaZt"
      },
      "execution_count": 47,
      "outputs": []
    },
    {
      "cell_type": "code",
      "source": [
        "# Algoritmo de Regresión logística\n",
        "\n",
        "def LogisticRegression(value):\n",
        "\n",
        "  lR = LinearRegresion(dataSet)  \n",
        "\n",
        "  print(lR)\n",
        "\n",
        "  x = ((lR[0] * value) + lR[1])\n",
        "\n",
        "  print(x)\n",
        "\n",
        "  loR = 1 / (1 + torch.exp(torch.tensor(-x)))\n",
        "\n",
        "  print(loR)\n",
        "\n",
        "\n",
        "\n",
        "\n",
        "  return print(\"La posibilidad de que sea grave con una presión sistólica de \" + str(value) +  \" es de \" + str((loR*100).item()) + \"%\")  \n",
        "\n",
        "LogisticRegression(145)"
      ],
      "metadata": {
        "id": "sSEZsi9pF4Jz",
        "outputId": "add48a70-0709-43f4-f86d-1d172843ecd6",
        "colab": {
          "base_uri": "https://localhost:8080/"
        }
      },
      "execution_count": 57,
      "outputs": [
        {
          "output_type": "stream",
          "name": "stdout",
          "text": [
            "(-0.0002942435609785473, 0.5278808895243493)\n",
            "0.48521557318245995\n",
            "tensor(0.6190)\n",
            "La posibilidad de que sea grave con una presión sistólica de 145 es de 61.89786911010742%\n"
          ]
        }
      ]
    },
    {
      "cell_type": "markdown",
      "source": [
        "3. Incluya paso a paso la derivada parcial de la función de activación del algoritmo,\n",
        "es decir, la derivada parcial de la función logística de acuerdo con sus respectivas variables. (30 pts)\n",
        "\n",
        " "
      ],
      "metadata": {
        "id": "GGbsnNzswU6S"
      }
    },
    {
      "cell_type": "code",
      "source": [],
      "metadata": {
        "id": "s5cirGPlwZGl"
      },
      "execution_count": null,
      "outputs": []
    },
    {
      "cell_type": "markdown",
      "source": [
        "4. Desarrolle sus conclusiones (10 pts)"
      ],
      "metadata": {
        "id": "ZFBSMUdqwf-F"
      }
    }
  ]
}