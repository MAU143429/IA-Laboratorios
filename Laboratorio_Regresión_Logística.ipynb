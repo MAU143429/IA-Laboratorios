{
  "nbformat": 4,
  "nbformat_minor": 0,
  "metadata": {
    "colab": {
      "provenance": [],
      "toc_visible": true,
      "authorship_tag": "ABX9TyN51ZIFrAqj0OZLWr+uWFof",
      "include_colab_link": true
    },
    "kernelspec": {
      "name": "python3",
      "display_name": "Python 3"
    },
    "language_info": {
      "name": "python"
    }
  },
  "cells": [
    {
      "cell_type": "markdown",
      "metadata": {
        "id": "view-in-github",
        "colab_type": "text"
      },
      "source": [
        "<a href=\"https://colab.research.google.com/github/MAU143429/IA-Laboratorios/blob/main/Laboratorio_Regresi%C3%B3n_Log%C3%ADstica.ipynb\" target=\"_parent\"><img src=\"https://colab.research.google.com/assets/colab-badge.svg\" alt=\"Open In Colab\"/></a>"
      ]
    },
    {
      "cell_type": "markdown",
      "source": [
        "# Laboratorio de Regresión logística"
      ],
      "metadata": {
        "id": "vCsn2ItVZj3s"
      }
    },
    {
      "cell_type": "code",
      "source": [
        "'''\n",
        "Importando las librerías que nos permiten generar los valores aleatorios\n",
        "y realizar los calculos.\n",
        "'''\n",
        "import random\n",
        "import decimal\n",
        "import statistics\n",
        "import numpy as np\n",
        "import torch\n",
        "from sklearn import datasets"
      ],
      "metadata": {
        "id": "R_Q3VkVMdfZx"
      },
      "execution_count": null,
      "outputs": []
    },
    {
      "cell_type": "markdown",
      "source": [
        "1. Seleccione un set de datos de su interés de 1 característica (o más) con un target dado y\n",
        "1000 observaciones. Puede generar los datos de forma aleatoria, tomar un set de datos\n",
        "de una fuente (debe indicar cuál) o puede usar los datos vistos en clase ajustados a la\n",
        "cantidad solicitada. (10 pts) "
      ],
      "metadata": {
        "id": "bZCFCMMWZsyQ"
      }
    },
    {
      "cell_type": "code",
      "source": [],
      "metadata": {
        "id": "VieslcrLZjkH"
      },
      "execution_count": null,
      "outputs": []
    },
    {
      "cell_type": "markdown",
      "source": [
        "2. Programe el algoritmo de regresión logística. No debe utilizar ciclos, utilice operaciones\n",
        "matriciales - vectoriales mediante el uso de Numpy, Pytorch, o programadas por usted.\n",
        "(50 pts)."
      ],
      "metadata": {
        "id": "Am_vQqeiZxUl"
      }
    },
    {
      "cell_type": "code",
      "source": [
        "import csv\n",
        "\n",
        "with open('datos.csv', newline='') as archivo_csv:\n",
        "    lector_csv = csv.reader(archivo_csv, delimiter=',')\n",
        "    Dataset = []\n",
        "    bpm = []\n",
        "    iah = []\n",
        "\n",
        "    for fila in lector_csv:\n",
        "        bpm.append(fila[0])\n",
        "        iah.append(fila[1])\n",
        "    \n",
        "    Dataset.append(bpm)\n",
        "    Dataset.append(iah)\n",
        "\n"
      ],
      "metadata": {
        "id": "2ZF-L9J1gux8",
        "outputId": "197315b3-3568-437d-c122-86203626b2d6",
        "colab": {
          "base_uri": "https://localhost:8080/",
          "height": 246
        }
      },
      "execution_count": null,
      "outputs": [
        {
          "output_type": "error",
          "ename": "FileNotFoundError",
          "evalue": "ignored",
          "traceback": [
            "\u001b[0;31m---------------------------------------------------------------------------\u001b[0m",
            "\u001b[0;31mFileNotFoundError\u001b[0m                         Traceback (most recent call last)",
            "\u001b[0;32m<ipython-input-11-36caa842bd3b>\u001b[0m in \u001b[0;36m<module>\u001b[0;34m\u001b[0m\n\u001b[1;32m      1\u001b[0m \u001b[0;32mimport\u001b[0m \u001b[0mcsv\u001b[0m\u001b[0;34m\u001b[0m\u001b[0;34m\u001b[0m\u001b[0m\n\u001b[1;32m      2\u001b[0m \u001b[0;34m\u001b[0m\u001b[0m\n\u001b[0;32m----> 3\u001b[0;31m \u001b[0;32mwith\u001b[0m \u001b[0mopen\u001b[0m\u001b[0;34m(\u001b[0m\u001b[0;34m'datos.csv'\u001b[0m\u001b[0;34m,\u001b[0m \u001b[0mnewline\u001b[0m\u001b[0;34m=\u001b[0m\u001b[0;34m''\u001b[0m\u001b[0;34m)\u001b[0m \u001b[0;32mas\u001b[0m \u001b[0marchivo_csv\u001b[0m\u001b[0;34m:\u001b[0m\u001b[0;34m\u001b[0m\u001b[0;34m\u001b[0m\u001b[0m\n\u001b[0m\u001b[1;32m      4\u001b[0m     \u001b[0mlector_csv\u001b[0m \u001b[0;34m=\u001b[0m \u001b[0mcsv\u001b[0m\u001b[0;34m.\u001b[0m\u001b[0mreader\u001b[0m\u001b[0;34m(\u001b[0m\u001b[0marchivo_csv\u001b[0m\u001b[0;34m,\u001b[0m \u001b[0mdelimiter\u001b[0m\u001b[0;34m=\u001b[0m\u001b[0;34m','\u001b[0m\u001b[0;34m)\u001b[0m\u001b[0;34m\u001b[0m\u001b[0;34m\u001b[0m\u001b[0m\n\u001b[1;32m      5\u001b[0m     \u001b[0mDataset\u001b[0m \u001b[0;34m=\u001b[0m \u001b[0;34m[\u001b[0m\u001b[0;34m]\u001b[0m\u001b[0;34m\u001b[0m\u001b[0;34m\u001b[0m\u001b[0m\n",
            "\u001b[0;31mFileNotFoundError\u001b[0m: [Errno 2] No such file or directory: 'datos.csv'"
          ]
        }
      ]
    },
    {
      "cell_type": "code",
      "source": [
        "# Algoritmo de Regresión Lineal utilizado en el Lab 1\n",
        "\n",
        "'''\n",
        "Método Linear Regression\n",
        "\n",
        "Este método permite generar una cantidad ¨n¨ de datos aleatorios.\n",
        "\n",
        "@param n es el numero de tuplas de datos a crear\n",
        "@return dataSet lista que contiene los datos creados.\n",
        "\n",
        "'''\n",
        "\n",
        "def LinearRegresion(DataSet):\n",
        "    \n",
        "    add_xi_yi = 0\n",
        "    add_xi_xm_2 = 0\n",
        "    averageWeight = statistics.mean(DataSet[0])\n",
        "    averageHeight = statistics.mean(DataSet[1])\n",
        "    \n",
        "    add_xi_xm = 0\n",
        "    add_yi_ym = 0\n",
        "    \n",
        "    print(\"Values Printed\")\n",
        "    for index, element in enumerate(DataSet[0]):\n",
        "        \n",
        "        xi_xm = (element - averageWeight)\n",
        "        yi_ym = (DataSet[1][index] - averageHeight)\n",
        "        xi_xm_2 = (xi_xm**2)\n",
        "        \n",
        "        add_xi_xm += (xi_xm**2)\n",
        "        add_yi_ym += (yi_ym**2)\n",
        "        \n",
        "        add_xi_yi += xi_xm * yi_ym\n",
        "        add_xi_xm_2+=xi_xm_2\n",
        "        \n",
        "        \n",
        "    b = add_xi_yi / add_xi_xm_2\n",
        "    a = averageHeight - (b* averageWeight)\n",
        "    \n",
        "    print(\"La ecuación de regresión lineal es: \" + \"y = \" , b , \"x + \", a)\n",
        "    \n",
        "\n",
        "data = [[160,130,150,132,166,147,138], [1,1,1,0,1,0,1]]    \n",
        "LinearRegresion(data)\n"
      ],
      "metadata": {
        "id": "4nDX9UoDZ1Rg",
        "outputId": "e13ebb8a-9924-4ff8-aa7a-c2ae742778e8",
        "colab": {
          "base_uri": "https://localhost:8080/"
        }
      },
      "execution_count": null,
      "outputs": [
        {
          "output_type": "stream",
          "name": "stdout",
          "text": [
            "Values Printed\n",
            "La ecuación de regresión lineal es: y =  0.011769172361427487 x +  -1.0056947608200453\n"
          ]
        }
      ]
    },
    {
      "cell_type": "markdown",
      "source": [
        "3. Incluya paso a paso la derivada parcial de la función de activación del algoritmo,\n",
        "es decir, la derivada parcial de la función logística de acuerdo con sus\n",
        "respectivas variables. (30 pts) "
      ],
      "metadata": {
        "id": "coD802J6Z1rO"
      }
    },
    {
      "cell_type": "code",
      "source": [],
      "metadata": {
        "id": "ReBxLnzJZ3-l"
      },
      "execution_count": null,
      "outputs": []
    },
    {
      "cell_type": "markdown",
      "source": [
        "4. Desarrolle sus conclusiones (10 pts)"
      ],
      "metadata": {
        "id": "LCM4ui1KZ4YI"
      }
    }
  ]
}