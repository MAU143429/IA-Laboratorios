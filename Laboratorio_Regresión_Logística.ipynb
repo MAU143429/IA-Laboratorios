{
  "nbformat": 4,
  "nbformat_minor": 0,
  "metadata": {
    "colab": {
      "provenance": [],
      "authorship_tag": "ABX9TyNedwZnStIqWvIoRvpL/HcQ",
      "include_colab_link": true
    },
    "kernelspec": {
      "name": "python3",
      "display_name": "Python 3"
    },
    "language_info": {
      "name": "python"
    }
  },
  "cells": [
    {
      "cell_type": "markdown",
      "metadata": {
        "id": "view-in-github",
        "colab_type": "text"
      },
      "source": [
        "<a href=\"https://colab.research.google.com/github/MAU143429/IA-Laboratorios/blob/main/Laboratorio_Regresi%C3%B3n_Log%C3%ADstica.ipynb\" target=\"_parent\"><img src=\"https://colab.research.google.com/assets/colab-badge.svg\" alt=\"Open In Colab\"/></a>"
      ]
    },
    {
      "cell_type": "markdown",
      "source": [
        "# Laboratorio de Regresión logística"
      ],
      "metadata": {
        "id": "liwdPYiyvyea"
      }
    },
    {
      "cell_type": "code",
      "execution_count": 13,
      "metadata": {
        "id": "kw9fzgDIXlEo"
      },
      "outputs": [],
      "source": [
        "'''\n",
        "Importando las librerías que nos permiten generar los valores aleatorios\n",
        "y realizar los calculos.\n",
        "'''\n",
        "import random\n",
        "import decimal\n",
        "import statistics\n",
        "import numpy as np\n",
        "import torch"
      ]
    },
    {
      "cell_type": "markdown",
      "source": [
        "1. Seleccione un set de datos de su interés de 1 característica (o más) con un target dado y\n",
        "1000 observaciones. Puede generar los datos de forma aleatoria, tomar un set de datos de una fuente (debe indicar cuál) o puede usar los datos vistos en clase ajustados a la cantidad solicitada. (10 pts)"
      ],
      "metadata": {
        "id": "A-IJjtMrvt67"
      }
    },
    {
      "cell_type": "code",
      "source": [],
      "metadata": {
        "id": "GUIod0NFwPfg"
      },
      "execution_count": null,
      "outputs": []
    },
    {
      "cell_type": "markdown",
      "source": [
        "2. Programe el algoritmo de regresión logística. No debe utilizar ciclos, utilice operaciones\n",
        "matriciales - vectoriales mediante el uso de Numpy, Pytorch, o programadas por usted. (50 pts)."
      ],
      "metadata": {
        "id": "6HuU_u85wSqP"
      }
    },
    {
      "cell_type": "code",
      "source": [
        "import csv\n",
        "\n",
        "with open('datos.csv', newline='') as archivo_csv:\n",
        "    lector_csv = csv.reader(archivo_csv, delimiter=',')\n",
        "    Dataset = []\n",
        "    bpm = []\n",
        "    iah = []\n",
        "\n",
        "    for fila in lector_csv:\n",
        "        bpm.append(fila[0])\n",
        "        iah.append(fila[1])\n",
        "    \n",
        "    Dataset.append(bpm)\n",
        "    Dataset.append(iah)"
      ],
      "metadata": {
        "id": "8ThEQl9uwR78"
      },
      "execution_count": null,
      "outputs": []
    },
    {
      "cell_type": "code",
      "source": [
        "# Algoritmo de Regresión Lineal utilizado en el Lab 1\n",
        "\n",
        "'''\n",
        "Método Linear Regression\n",
        "\n",
        "Este método permite generar una cantidad ¨n¨ de datos aleatorios.\n",
        "\n",
        "@param n es el numero de tuplas de datos a crear\n",
        "@return dataSet lista que contiene los datos creados.\n",
        "\n",
        "'''\n",
        "\n",
        "def LinearRegresion(DataSet):\n",
        "    \n",
        "    add_xi_yi = 0\n",
        "    add_xi_xm_2 = 0\n",
        "    averageWeight = statistics.mean(DataSet[0])\n",
        "    averageHeight = statistics.mean(DataSet[1])\n",
        "    \n",
        "    add_xi_xm = 0\n",
        "    add_yi_ym = 0\n",
        "    \n",
        "    print(\"Values Printed\")\n",
        "    for index, element in enumerate(DataSet[0]):\n",
        "        \n",
        "        xi_xm = (element - averageWeight)\n",
        "        yi_ym = (DataSet[1][index] - averageHeight)\n",
        "        xi_xm_2 = (xi_xm**2)\n",
        "        \n",
        "        add_xi_xm += (xi_xm**2)\n",
        "        add_yi_ym += (yi_ym**2)\n",
        "        \n",
        "        add_xi_yi += xi_xm * yi_ym\n",
        "        add_xi_xm_2+=xi_xm_2\n",
        "        \n",
        "        \n",
        "    b = add_xi_yi / add_xi_xm_2\n",
        "    a = averageHeight - (b* averageWeight)\n",
        "    \n",
        "    print(\"La ecuación de regresión lineal es: \" + \"y = \" , b , \"x + \", a)\n",
        "    \n",
        "\n",
        "data = [[160,130,150,132,166,147,138], [1,1,1,0,1,0,1]]    \n",
        "LinearRegresion(data)"
      ],
      "metadata": {
        "id": "l-JCiLeowaZt"
      },
      "execution_count": null,
      "outputs": []
    },
    {
      "cell_type": "markdown",
      "source": [
        "3. Incluya paso a paso la derivada parcial de la función de activación del algoritmo,\n",
        "es decir, la derivada parcial de la función logística de acuerdo con sus respectivas variables. (30 pts)\n",
        "\n",
        " "
      ],
      "metadata": {
        "id": "GGbsnNzswU6S"
      }
    },
    {
      "cell_type": "code",
      "source": [],
      "metadata": {
        "id": "s5cirGPlwZGl"
      },
      "execution_count": null,
      "outputs": []
    },
    {
      "cell_type": "markdown",
      "source": [
        "4. Desarrolle sus conclusiones (10 pts)"
      ],
      "metadata": {
        "id": "ZFBSMUdqwf-F"
      }
    }
  ]
}