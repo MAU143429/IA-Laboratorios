{
  "nbformat": 4,
  "nbformat_minor": 0,
  "metadata": {
    "colab": {
      "provenance": [],
      "include_colab_link": true
    },
    "kernelspec": {
      "name": "python3",
      "display_name": "Python 3"
    },
    "language_info": {
      "name": "python"
    }
  },
  "cells": [
    {
      "cell_type": "markdown",
      "metadata": {
        "id": "view-in-github",
        "colab_type": "text"
      },
      "source": [
        "<a href=\"https://colab.research.google.com/github/MAU143429/IA-Laboratorios/blob/Forward/Lab_RedNeuronal_Modificado.ipynb\" target=\"_parent\"><img src=\"https://colab.research.google.com/assets/colab-badge.svg\" alt=\"Open In Colab\"/></a>"
      ]
    },
    {
      "cell_type": "code",
      "metadata": {
        "id": "HqiC083T_6nm"
      },
      "source": [
        "#Autora: Adriana Álvarez F. \n",
        "# Since Collab is being used, it is necessary to install Pytorch\n",
        "import torch as torch\n",
        "\n",
        "import numpy as np\n",
        "from matplotlib import pyplot as plt\n",
        "from mpl_toolkits.mplot3d import Axes3D\n",
        "from matplotlib import cm\n"
      ],
      "execution_count": 2,
      "outputs": []
    },
    {
      "cell_type": "code",
      "metadata": {
        "id": "FSQf-LLRzfeX"
      },
      "source": [
        "def sigmoidalActivationFunction(x):\n",
        "  return (1/(1+(torch.exp(-x))))\n"
      ],
      "execution_count": 3,
      "outputs": []
    },
    {
      "cell_type": "code",
      "metadata": {
        "id": "04zLU2g2AKYG"
      },
      "source": [
        "def forward(weights,featuresT):\n",
        "  result=weights.mm(featuresT)\n",
        "  return sigmoidalActivationFunction(result)\n"
      ],
      "execution_count": 10,
      "outputs": []
    },
    {
      "cell_type": "code",
      "metadata": {
        "id": "vJ1qALlIgncZ"
      },
      "source": [
        "def countRows(matrix):\n",
        "  return matrix.size()[0]"
      ],
      "execution_count": 5,
      "outputs": []
    },
    {
      "cell_type": "code",
      "metadata": {
        "id": "85zqlgBBg0Tn"
      },
      "source": [
        "def countColumns(matrix):\n",
        "  return matrix.size()[1]"
      ],
      "execution_count": 6,
      "outputs": []
    },
    {
      "cell_type": "code",
      "metadata": {
        "id": "q5Geli2fcm9V"
      },
      "source": [
        "# Crea una matriz de tamano countHiddenLayer (rows) x countFeatures (columns) \n",
        "def randomWeights(rows, colums):\n",
        "  return (torch.rand(rows, colums))\n"
      ],
      "execution_count": 7,
      "outputs": []
    },
    {
      "cell_type": "code",
      "metadata": {
        "colab": {
          "base_uri": "https://localhost:8080/"
        },
        "id": "k1q_D3CoBAoK",
        "outputId": "0357e4ea-04c1-4496-b9fa-7b2c2ac9123b"
      },
      "source": [
        "x = torch.tensor([[0.05, 0.01], [0.02, 0.5], [2,4]])\n",
        "rows=countRows(x) # corresponde a la cantidad de observaciones del dataset, es decir, a la cantidad de observaciones\n",
        "columns=countColumns(x) #corresponde a la cantidad de features del dataset\n",
        "countNeuronsHiddenLayer1=1\n",
        "weights=randomWeights(countNeuronsHiddenLayer1, columns)\n",
        "#print(weights)\n",
        "featuresT=x.transpose(0,1)\n",
        "#print(featuresT)\n",
        "r = forward(weights,featuresT)\n",
        "print(r)\n"
      ],
      "execution_count": 11,
      "outputs": [
        {
          "output_type": "stream",
          "name": "stdout",
          "text": [
            "tensor([[0.5082, 0.6083, 0.9881]])\n"
          ]
        }
      ]
    },
    {
      "cell_type": "markdown",
      "source": [
        "# Lab – Red neuronal Forward\n",
        "\n",
        "\n",
        "*   Mauricio Calderon\n",
        "*   Mario Araya\n"
      ],
      "metadata": {
        "id": "rTnIsmkN2B0m"
      }
    },
    {
      "cell_type": "markdown",
      "source": [
        "1. Explique que significa el resultado que se imprime en r.\n",
        "\n",
        "\n",
        "R/ El resultado en forma de vector que vemos al imprimir \"r\" es el vector que posee los valores de los output1 para la cada una de las observaciones despues de pasar por la neurona presenta en la capa oculta 1.\n"
      ],
      "metadata": {
        "id": "2BB27woL2P3Z"
      }
    },
    {
      "cell_type": "markdown",
      "source": [
        "2. Explique el resultado si agrega una observación adicional al dataset. Debe mostrar el dataset\n",
        "modificado.\n",
        "\n",
        "\n",
        "\n",
        "R/ Como podemos observar en la parte inferior, si agregamos una observación adicional al dataset y aplicamos los mismos procedimiento podemos ver como r imprime un vector de 4 resultados.\n",
        "\n",
        "Lo que sucede acá es que, al agregar una observación adicional el algoritmo debe analizarla como una más, esto origina que el resultado tambien deba incluir un output1 para la 4 observación. \n",
        "\n",
        "Este procedimiento es iterativo, por lo que la cantidad de datos de salida del vector r corresponde a la cantidad n de observaciones presentes en el dataset."
      ],
      "metadata": {
        "id": "Mph3PDK22TlW"
      }
    },
    {
      "cell_type": "code",
      "source": [
        "'''\n",
        "Ejemplo con Data set modificado agregando una observacion adicional\n",
        "\n",
        "'''\n",
        "\n",
        "x = torch.tensor([[0.05, 0.01], [0.02, 0.5], [2,4],[1,5]])\n",
        "rows=countRows(x) # corresponde a la cantidad de observaciones del dataset, es decir, a la cantidad de observaciones\n",
        "columns=countColumns(x) #corresponde a la cantidad de features del dataset\n",
        "countNeuronsHiddenLayer1=1\n",
        "weights=randomWeights(countNeuronsHiddenLayer1, columns)\n",
        "print(\"Pesos\",weights)\n",
        "featuresT=x.transpose(0,1)\n",
        "print(\"Caracteristicas Transpuesta\",featuresT)\n",
        "r = forward(weights,featuresT)\n",
        "print(\"R\",r)\n"
      ],
      "metadata": {
        "colab": {
          "base_uri": "https://localhost:8080/"
        },
        "id": "2yzc3A1r2ncP",
        "outputId": "cf0a2d60-34d3-4172-a2b9-839853f1075b"
      },
      "execution_count": 14,
      "outputs": [
        {
          "output_type": "stream",
          "name": "stdout",
          "text": [
            "Pesos tensor([[0.8449, 0.8420]])\n",
            "Caracteristicas Transpuesta tensor([[0.0500, 0.0200, 2.0000, 1.0000],\n",
            "        [0.0100, 0.5000, 4.0000, 5.0000]])\n",
            "R tensor([[0.5127, 0.6078, 0.9937, 0.9937]])\n"
          ]
        }
      ]
    },
    {
      "cell_type": "markdown",
      "source": [
        "3. Explique el resultado si agrega una característica adicional al dataset. Debe mostrar el dataset\n",
        "modificado.\n",
        "\n",
        "R/ Como podemos observar en la parte inferior, si agregamos un feature más dentro de cada una de las observaciones, vemos que si imprimimos el vector ¨r¨, la cantidad de valores son los mismos pero los resultados si cambiaron, esto se debe a que al incluir una feature adicional, esto lleva consigo el calculo de un nuevo peso asociado a ese feature para cada una de las observaciones, por lo que cuando se realiza las operaciones entre matrices este nuevo valor de peso debido a la adición del nuevo feature provoca que el valor de los outputs1 (salida de la neurona) se vea modificado respecto al dataset original."
      ],
      "metadata": {
        "id": "uyGGdAks2Tvd"
      }
    },
    {
      "cell_type": "code",
      "source": [
        "'''\n",
        "Ejemplo con Data set modificado agregando una caracteristica adicional\n",
        "\n",
        "'''\n",
        "\n",
        "x = torch.tensor([[0.05, 0.01, 0.07], [0.02, 0.5, 0.03], [2,4,1]])\n",
        "rows=countRows(x) # corresponde a la cantidad de observaciones del dataset, es decir, a la cantidad de observaciones\n",
        "columns=countColumns(x) #corresponde a la cantidad de features del dataset\n",
        "countNeuronsHiddenLayer1=1\n",
        "weights=randomWeights(countNeuronsHiddenLayer1, columns)\n",
        "print(\"Pesos\",weights)\n",
        "featuresT=x.transpose(0,1)\n",
        "print(\"Caracteristicas Transpuesta\",featuresT)\n",
        "r = forward(weights,featuresT)\n",
        "print(\"R\",r)\n"
      ],
      "metadata": {
        "colab": {
          "base_uri": "https://localhost:8080/"
        },
        "id": "VKgshRcl670S",
        "outputId": "fdf1831a-61a7-46f0-888e-29fd2de86a4a"
      },
      "execution_count": 16,
      "outputs": [
        {
          "output_type": "stream",
          "name": "stdout",
          "text": [
            "Pesos tensor([[0.4053, 0.6263, 0.9073]])\n",
            "Caracteristicas Transpuesta tensor([[0.0500, 0.0200, 2.0000],\n",
            "        [0.0100, 0.5000, 4.0000],\n",
            "        [0.0700, 0.0300, 1.0000]])\n",
            "R tensor([[0.5225, 0.5862, 0.9856]])\n"
          ]
        }
      ]
    },
    {
      "cell_type": "markdown",
      "source": [
        "4. Modifique el código para agregar una nueva neurona a la capa oculta 1. Incluya un dibujo de la\n",
        "red."
      ],
      "metadata": {
        "id": "_RCygN4j2T8U"
      }
    },
    {
      "cell_type": "markdown",
      "source": [
        "5. Modifique el código para agregar la programación del bias."
      ],
      "metadata": {
        "id": "9M0D4USA2T1p"
      }
    },
    {
      "cell_type": "markdown",
      "source": [
        "6. Sobre el punto anterior, modifique el código para agregar una nueva capa oculta 2 con 1\n",
        "neurona. Incluya un dibujo de la red."
      ],
      "metadata": {
        "id": "JRPGWYVU2UCf"
      }
    },
    {
      "cell_type": "markdown",
      "source": [
        "7. Sobre el punto anterior, modifique el código para agregar una nueva neurona a la capa oculta 2.\n",
        "Incluya un dibujo de la red."
      ],
      "metadata": {
        "id": "_I0d581q2UJg"
      }
    },
    {
      "cell_type": "markdown",
      "source": [
        "8. Programe la red neuronal del punto anterior sin utilizar métodos ya preexistentes, es decir,\n",
        "programe todo el algoritmo (sólo el forward). Debe usar operaciones con matrices y un mínimo\n",
        "de fors. Prográmelo de forma que sea parametrizable en la cantidad de observaciones y de\n",
        "features."
      ],
      "metadata": {
        "id": "gmI4VZDR2UQC"
      }
    },
    {
      "cell_type": "markdown",
      "source": [
        "9. Agregue el target y la programación de la función de error para el primer forward."
      ],
      "metadata": {
        "id": "Dne5cbZp2k0D"
      }
    }
  ]
}