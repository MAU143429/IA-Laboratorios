{
  "nbformat": 4,
  "nbformat_minor": 0,
  "metadata": {
    "colab": {
      "provenance": [],
      "include_colab_link": true
    },
    "kernelspec": {
      "name": "python3",
      "display_name": "Python 3"
    },
    "language_info": {
      "name": "python"
    }
  },
  "cells": [
    {
      "cell_type": "markdown",
      "metadata": {
        "id": "view-in-github",
        "colab_type": "text"
      },
      "source": [
        "<a href=\"https://colab.research.google.com/github/MAU143429/IA-Laboratorios/blob/Forward/Lab_RedNeuronal_Modificado.ipynb\" target=\"_parent\"><img src=\"https://colab.research.google.com/assets/colab-badge.svg\" alt=\"Open In Colab\"/></a>"
      ]
    },
    {
      "cell_type": "code",
      "metadata": {
        "id": "HqiC083T_6nm"
      },
      "source": [
        "#Autora: Adriana Álvarez F. \n",
        "# Since Collab is being used, it is necessary to install Pytorch\n",
        "import torch as torch\n",
        "\n",
        "import numpy as np\n",
        "from matplotlib import pyplot as plt\n",
        "from mpl_toolkits.mplot3d import Axes3D\n",
        "from matplotlib import cm\n"
      ],
      "execution_count": null,
      "outputs": []
    },
    {
      "cell_type": "code",
      "metadata": {
        "id": "FSQf-LLRzfeX"
      },
      "source": [
        "def sigmoidalActivationFunction(x):\n",
        "  return (1/(1+(torch.exp(-x))))\n"
      ],
      "execution_count": null,
      "outputs": []
    },
    {
      "cell_type": "code",
      "metadata": {
        "id": "04zLU2g2AKYG"
      },
      "source": [
        "def forward(weights,featuresT):\n",
        "  result=weights.mm(featuresT)\n",
        "  print(\"RESULT\",result)\n",
        "  return sigmoidalActivationFunction(result)\n"
      ],
      "execution_count": null,
      "outputs": []
    },
    {
      "cell_type": "code",
      "metadata": {
        "id": "vJ1qALlIgncZ"
      },
      "source": [
        "def countRows(matrix):\n",
        "  return matrix.size()[0]"
      ],
      "execution_count": null,
      "outputs": []
    },
    {
      "cell_type": "code",
      "metadata": {
        "id": "85zqlgBBg0Tn"
      },
      "source": [
        "def countColumns(matrix):\n",
        "  return matrix.size()[1]"
      ],
      "execution_count": null,
      "outputs": []
    },
    {
      "cell_type": "code",
      "metadata": {
        "id": "q5Geli2fcm9V"
      },
      "source": [
        "# Crea una matriz de tamano countHiddenLayer (rows) x countFeatures (columns) \n",
        "def randomWeights(rows, colums):\n",
        "  return (torch.rand(rows, colums))\n"
      ],
      "execution_count": null,
      "outputs": []
    },
    {
      "cell_type": "code",
      "metadata": {
        "colab": {
          "base_uri": "https://localhost:8080/"
        },
        "id": "k1q_D3CoBAoK",
        "outputId": "118a6407-0924-4f58-b6f3-087cee31cf96"
      },
      "source": [
        "x = torch.tensor([[0.05, 0.01], [0.02, 0.5], [2,4]])\n",
        "rows=countRows(x) # corresponde a la cantidad de observaciones del dataset, es decir, a la cantidad de observaciones\n",
        "columns=countColumns(x) #corresponde a la cantidad de features del dataset\n",
        "countNeuronsHiddenLayer1=1\n",
        "weights=randomWeights(countNeuronsHiddenLayer1, columns)\n",
        "#print(weights)\n",
        "featuresT=x.transpose(0,1)\n",
        "#print(featuresT)\n",
        "r = forward(weights,featuresT)\n",
        "print(r)\n"
      ],
      "execution_count": null,
      "outputs": [
        {
          "output_type": "stream",
          "name": "stdout",
          "text": [
            "tensor([[0.4584, 0.8081]])\n",
            "tensor([[0.0500, 0.0200, 2.0000],\n",
            "        [0.0100, 0.5000, 4.0000]])\n",
            "RESULT tensor([[0.0310, 0.4132, 4.1491]])\n",
            "tensor([[0.5078, 0.6019, 0.9845]])\n"
          ]
        }
      ]
    },
    {
      "cell_type": "markdown",
      "source": [
        "# Lab – Red neuronal Forward\n",
        "\n",
        "\n",
        "*   Mauricio Calderon\n",
        "*   Mario Araya\n"
      ],
      "metadata": {
        "id": "rTnIsmkN2B0m"
      }
    },
    {
      "cell_type": "markdown",
      "source": [
        "1. Explique que significa el resultado que se imprime en r."
      ],
      "metadata": {
        "id": "2BB27woL2P3Z"
      }
    },
    {
      "cell_type": "markdown",
      "source": [
        "2. Explique el resultado si agrega una observación adicional al dataset. Debe mostrar el dataset\n",
        "modificado."
      ],
      "metadata": {
        "id": "Mph3PDK22TlW"
      }
    },
    {
      "cell_type": "code",
      "source": [],
      "metadata": {
        "id": "2yzc3A1r2ncP"
      },
      "execution_count": null,
      "outputs": []
    },
    {
      "cell_type": "markdown",
      "source": [
        "3. Explique el resultado si agrega una característica adicional al dataset. Debe mostrar el dataset\n",
        "modificado."
      ],
      "metadata": {
        "id": "uyGGdAks2Tvd"
      }
    },
    {
      "cell_type": "markdown",
      "source": [
        "4. Modifique el código para agregar una nueva neurona a la capa oculta 1. Incluya un dibujo de la\n",
        "red."
      ],
      "metadata": {
        "id": "_RCygN4j2T8U"
      }
    },
    {
      "cell_type": "markdown",
      "source": [
        "5. Modifique el código para agregar la programación del bias."
      ],
      "metadata": {
        "id": "9M0D4USA2T1p"
      }
    },
    {
      "cell_type": "markdown",
      "source": [
        "6. Sobre el punto anterior, modifique el código para agregar una nueva capa oculta 2 con 1\n",
        "neurona. Incluya un dibujo de la red."
      ],
      "metadata": {
        "id": "JRPGWYVU2UCf"
      }
    },
    {
      "cell_type": "markdown",
      "source": [
        "7. Sobre el punto anterior, modifique el código para agregar una nueva neurona a la capa oculta 2.\n",
        "Incluya un dibujo de la red."
      ],
      "metadata": {
        "id": "_I0d581q2UJg"
      }
    },
    {
      "cell_type": "markdown",
      "source": [
        "8. Programe la red neuronal del punto anterior sin utilizar métodos ya preexistentes, es decir,\n",
        "programe todo el algoritmo (sólo el forward). Debe usar operaciones con matrices y un mínimo\n",
        "de fors. Prográmelo de forma que sea parametrizable en la cantidad de observaciones y de\n",
        "features."
      ],
      "metadata": {
        "id": "gmI4VZDR2UQC"
      }
    },
    {
      "cell_type": "markdown",
      "source": [
        "9. Agregue el target y la programación de la función de error para el primer forward."
      ],
      "metadata": {
        "id": "Dne5cbZp2k0D"
      }
    }
  ]
}