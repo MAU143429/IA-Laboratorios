{
  "nbformat": 4,
  "nbformat_minor": 0,
  "metadata": {
    "colab": {
      "provenance": [],
      "include_colab_link": true
    },
    "kernelspec": {
      "name": "python3",
      "display_name": "Python 3"
    },
    "language_info": {
      "name": "python"
    }
  },
  "cells": [
    {
      "cell_type": "markdown",
      "metadata": {
        "id": "view-in-github",
        "colab_type": "text"
      },
      "source": [
        "<a href=\"https://colab.research.google.com/github/MAU143429/IA-Laboratorios/blob/Forward/Lab_RedNeuronal_Modificado.ipynb\" target=\"_parent\"><img src=\"https://colab.research.google.com/assets/colab-badge.svg\" alt=\"Open In Colab\"/></a>"
      ]
    },
    {
      "cell_type": "code",
      "metadata": {
        "id": "HqiC083T_6nm"
      },
      "source": [
        "#Autora: Adriana Álvarez F. \n",
        "# Since Collab is being used, it is necessary to install Pytorch\n",
        "import torch as torch\n",
        "\n",
        "import numpy as np\n",
        "from matplotlib import pyplot as plt\n",
        "from mpl_toolkits.mplot3d import Axes3D\n",
        "from matplotlib import cm\n"
      ],
      "execution_count": 2,
      "outputs": []
    },
    {
      "cell_type": "code",
      "metadata": {
        "id": "FSQf-LLRzfeX"
      },
      "source": [
        "def sigmoidalActivationFunction(x):\n",
        "  return (1/(1+(torch.exp(-x))))\n"
      ],
      "execution_count": 3,
      "outputs": []
    },
    {
      "cell_type": "code",
      "metadata": {
        "id": "04zLU2g2AKYG"
      },
      "source": [
        "def forward(weights,featuresT):\n",
        "  result=weights.mm(featuresT)\n",
        "  return sigmoidalActivationFunction(result)\n"
      ],
      "execution_count": 10,
      "outputs": []
    },
    {
      "cell_type": "code",
      "metadata": {
        "id": "vJ1qALlIgncZ"
      },
      "source": [
        "def countRows(matrix):\n",
        "  return matrix.size()[0]"
      ],
      "execution_count": 5,
      "outputs": []
    },
    {
      "cell_type": "code",
      "metadata": {
        "id": "85zqlgBBg0Tn"
      },
      "source": [
        "def countColumns(matrix):\n",
        "  return matrix.size()[1]"
      ],
      "execution_count": 6,
      "outputs": []
    },
    {
      "cell_type": "code",
      "metadata": {
        "id": "q5Geli2fcm9V"
      },
      "source": [
        "# Crea una matriz de tamano countHiddenLayer (rows) x countFeatures (columns) \n",
        "def randomWeights(rows, colums):\n",
        "  return (torch.rand(rows, colums))\n"
      ],
      "execution_count": 7,
      "outputs": []
    },
    {
      "cell_type": "code",
      "metadata": {
        "colab": {
          "base_uri": "https://localhost:8080/"
        },
        "id": "k1q_D3CoBAoK",
        "outputId": "0357e4ea-04c1-4496-b9fa-7b2c2ac9123b"
      },
      "source": [
        "x = torch.tensor([[0.05, 0.01], [0.02, 0.5], [2,4]])\n",
        "rows=countRows(x) # corresponde a la cantidad de observaciones del dataset, es decir, a la cantidad de observaciones\n",
        "columns=countColumns(x) #corresponde a la cantidad de features del dataset\n",
        "countNeuronsHiddenLayer1=1\n",
        "weights=randomWeights(countNeuronsHiddenLayer1, columns)\n",
        "#print(weights)\n",
        "featuresT=x.transpose(0,1)\n",
        "#print(featuresT)\n",
        "r = forward(weights,featuresT)\n",
        "print(r)\n"
      ],
      "execution_count": 11,
      "outputs": [
        {
          "output_type": "stream",
          "name": "stdout",
          "text": [
            "tensor([[0.5082, 0.6083, 0.9881]])\n"
          ]
        }
      ]
    },
    {
      "cell_type": "markdown",
      "source": [
        "# Lab – Red neuronal Forward\n",
        "\n",
        "\n",
        "*   Mauricio Calderon\n",
        "*   Mario Araya\n"
      ],
      "metadata": {
        "id": "rTnIsmkN2B0m"
      }
    },
    {
      "cell_type": "markdown",
      "source": [
        "### 1. Explique que significa el resultado que se imprime en r.\n",
        "\n",
        "\n",
        "R/ El resultado en forma de vector que vemos al imprimir \"r\" es el vector que posee los valores de los output1 para la cada una de las observaciones despues de pasar por la neurona presenta en la capa oculta 1.\n"
      ],
      "metadata": {
        "id": "2BB27woL2P3Z"
      }
    },
    {
      "cell_type": "markdown",
      "source": [
        "### 2. Explique el resultado si agrega una observación adicional al dataset. Debe mostrar el dataset\n",
        "modificado.\n",
        "\n",
        "\n",
        "\n",
        "R/ Como podemos observar en la parte inferior, si agregamos una observación adicional al dataset y aplicamos los mismos procedimiento podemos ver como r imprime un vector de 4 resultados.\n",
        "\n",
        "Lo que sucede acá es que, al agregar una observación adicional el algoritmo debe analizarla como una más, esto origina que el resultado tambien deba incluir un output1 para la 4 observación. \n",
        "\n",
        "Este procedimiento es iterativo, por lo que la cantidad de datos de salida del vector r corresponde a la cantidad n de observaciones presentes en el dataset."
      ],
      "metadata": {
        "id": "Mph3PDK22TlW"
      }
    },
    {
      "cell_type": "code",
      "source": [
        "'''\n",
        "Ejemplo con Dataset modificado agregando una observacion adicional\n",
        "\n",
        "'''\n",
        "\n",
        "x = torch.tensor([[0.05, 0.01], [0.02, 0.5], [2,4],[1,5]])\n",
        "rows=countRows(x) # corresponde a la cantidad de observaciones del dataset, es decir, a la cantidad de observaciones\n",
        "columns=countColumns(x) #corresponde a la cantidad de features del dataset\n",
        "countNeuronsHiddenLayer1=1\n",
        "weights=randomWeights(countNeuronsHiddenLayer1, columns)\n",
        "print(\"Pesos\",weights)\n",
        "featuresT=x.transpose(0,1)\n",
        "print(\"Caracteristicas Transpuesta\",featuresT)\n",
        "r = forward(weights,featuresT)\n",
        "print(\"R\",r)\n"
      ],
      "metadata": {
        "colab": {
          "base_uri": "https://localhost:8080/"
        },
        "id": "2yzc3A1r2ncP",
        "outputId": "cf0a2d60-34d3-4172-a2b9-839853f1075b"
      },
      "execution_count": 14,
      "outputs": [
        {
          "output_type": "stream",
          "name": "stdout",
          "text": [
            "Pesos tensor([[0.8449, 0.8420]])\n",
            "Caracteristicas Transpuesta tensor([[0.0500, 0.0200, 2.0000, 1.0000],\n",
            "        [0.0100, 0.5000, 4.0000, 5.0000]])\n",
            "R tensor([[0.5127, 0.6078, 0.9937, 0.9937]])\n"
          ]
        }
      ]
    },
    {
      "cell_type": "markdown",
      "source": [
        "### 3. Explique el resultado si agrega una característica adicional al dataset. Debe mostrar el dataset\n",
        "modificado.\n",
        "\n",
        "R/ Como podemos observar en la parte inferior, si agregamos un feature más dentro de cada una de las observaciones, vemos que si imprimimos el vector ¨r¨, la cantidad de valores son los mismos pero los resultados si cambiaron, esto se debe a que al incluir una feature adicional, esto lleva consigo el calculo de un nuevo peso asociado a ese feature para cada una de las observaciones, por lo que cuando se realiza las operaciones entre matrices este nuevo valor de peso debido a la adición del nuevo feature provoca que el valor de los outputs1 (salida de la neurona) se vea modificado respecto al dataset original."
      ],
      "metadata": {
        "id": "uyGGdAks2Tvd"
      }
    },
    {
      "cell_type": "code",
      "source": [
        "'''\n",
        "Ejemplo con Dataset modificado agregando una caracteristica adicional\n",
        "\n",
        "'''\n",
        "\n",
        "x = torch.tensor([[0.05, 0.01, 0.07], [0.02, 0.5, 0.03], [2,4,1]])\n",
        "rows=countRows(x) # corresponde a la cantidad de observaciones del dataset, es decir, a la cantidad de observaciones\n",
        "columns=countColumns(x) #corresponde a la cantidad de features del dataset\n",
        "countNeuronsHiddenLayer1=1\n",
        "weights=randomWeights(countNeuronsHiddenLayer1, columns)\n",
        "print(\"Pesos\",weights)\n",
        "featuresT=x.transpose(0,1)\n",
        "print(\"Caracteristicas Transpuesta\",featuresT)\n",
        "r = forward(weights,featuresT)\n",
        "print(\"R\",r)\n"
      ],
      "metadata": {
        "colab": {
          "base_uri": "https://localhost:8080/"
        },
        "id": "VKgshRcl670S",
        "outputId": "fdf1831a-61a7-46f0-888e-29fd2de86a4a"
      },
      "execution_count": 16,
      "outputs": [
        {
          "output_type": "stream",
          "name": "stdout",
          "text": [
            "Pesos tensor([[0.4053, 0.6263, 0.9073]])\n",
            "Caracteristicas Transpuesta tensor([[0.0500, 0.0200, 2.0000],\n",
            "        [0.0100, 0.5000, 4.0000],\n",
            "        [0.0700, 0.0300, 1.0000]])\n",
            "R tensor([[0.5225, 0.5862, 0.9856]])\n"
          ]
        }
      ]
    },
    {
      "cell_type": "markdown",
      "source": [
        "### 4. Modifique el código para agregar una nueva neurona a la capa oculta 1. Incluya un dibujo de la\n",
        "red.\n",
        "\n",
        "R/ Primeramente representando gráficamente la red neuronal inicial tendriamos lo siguiente:\n",
        "\n",
        "![original.png](data:image/png;base64,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)\n",
        "\n",
        "\n",
        "Incluyendo la modificación indicada, la  red neuronal nos quedaría de la siguiente manera:\n",
        "\n",
        "![modificado 1.png](data:image/png;base64,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)\n",
        "\n",
        "Las modificaciones del código se muestran en la parte inferior.\n",
        "\n",
        "Como podemos observar a diferencia de los puntos anteriores, el vector ¨r¨ ahora aumento una dimension más, esto ocurre de esta manera debido a que al aumentar en 1 neurona la capa oculta 1, esto ocasiona que tengamos output1 tanto para la primer neurona como para la segunda, duplicando las salidas del vector. \n",
        "\n",
        "En este caso las el primer vector de ¨r¨ representa los 3 outputs para las 3 observaciones de la primer neurona y el segundo vector representa los 3 outputs para las 3 observacioens de la segunda neurona. Tal y como se muestra abajo."
      ],
      "metadata": {
        "id": "_RCygN4j2T8U"
      }
    },
    {
      "cell_type": "code",
      "source": [
        "'''\n",
        "Se agrega una neurona extra a la capa oculta 1\n",
        "\n",
        "'''\n",
        "\n",
        "x = torch.tensor([[0.05, 0.01], [0.02, 0.5], [2,4]])\n",
        "rows=countRows(x) # corresponde a la cantidad de observaciones del dataset, es decir, a la cantidad de observaciones\n",
        "columns=countColumns(x) #corresponde a la cantidad de features del dataset\n",
        "countNeuronsHiddenLayer1=2\n",
        "weights=randomWeights(countNeuronsHiddenLayer1, columns)\n",
        "print(\"Pesos\",weights)\n",
        "featuresT=x.transpose(0,1)\n",
        "print(\"Caracteristicas Transpuesta\",featuresT)\n",
        "r = forward(weights,featuresT)\n",
        "print(\"R\",r)\n"
      ],
      "metadata": {
        "colab": {
          "base_uri": "https://localhost:8080/"
        },
        "id": "lxbgPiHKCPs4",
        "outputId": "ab617607-2804-4136-b598-5ea077e71f00"
      },
      "execution_count": 19,
      "outputs": [
        {
          "output_type": "stream",
          "name": "stdout",
          "text": [
            "Pesos tensor([[0.7059, 0.3361],\n",
            "        [0.1018, 0.5998]])\n",
            "Caracteristicas Transpuesta tensor([[0.0500, 0.0200, 2.0000],\n",
            "        [0.0100, 0.5000, 4.0000]])\n",
            "R tensor([[0.5097, 0.5454, 0.9403],\n",
            "        [0.5028, 0.5749, 0.9311]])\n"
          ]
        }
      ]
    },
    {
      "cell_type": "markdown",
      "source": [
        "### 5. Modifique el código para agregar la programación del bias."
      ],
      "metadata": {
        "id": "9M0D4USA2T1p"
      }
    },
    {
      "cell_type": "markdown",
      "source": [
        "### 6. Sobre el punto anterior, modifique el código para agregar una nueva capa oculta 2 con 1\n",
        "neurona. Incluya un dibujo de la red."
      ],
      "metadata": {
        "id": "JRPGWYVU2UCf"
      }
    },
    {
      "cell_type": "markdown",
      "source": [
        "### 7. Sobre el punto anterior, modifique el código para agregar una nueva neurona a la capa oculta 2.\n",
        "Incluya un dibujo de la red."
      ],
      "metadata": {
        "id": "_I0d581q2UJg"
      }
    },
    {
      "cell_type": "markdown",
      "source": [
        "### 8. Programe la red neuronal del punto anterior sin utilizar métodos ya preexistentes, es decir,\n",
        "programe todo el algoritmo (sólo el forward). Debe usar operaciones con matrices y un mínimo\n",
        "de fors. Prográmelo de forma que sea parametrizable en la cantidad de observaciones y de\n",
        "features."
      ],
      "metadata": {
        "id": "gmI4VZDR2UQC"
      }
    },
    {
      "cell_type": "markdown",
      "source": [
        "### 9. Agregue el target y la programación de la función de error para el primer forward."
      ],
      "metadata": {
        "id": "Dne5cbZp2k0D"
      }
    }
  ]
}