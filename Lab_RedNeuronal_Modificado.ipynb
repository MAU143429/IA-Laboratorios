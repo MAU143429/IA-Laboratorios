{
  "nbformat": 4,
  "nbformat_minor": 0,
  "metadata": {
    "colab": {
      "provenance": [],
      "include_colab_link": true
    },
    "kernelspec": {
      "name": "python3",
      "display_name": "Python 3"
    },
    "language_info": {
      "name": "python"
    }
  },
  "cells": [
    {
      "cell_type": "markdown",
      "metadata": {
        "id": "view-in-github",
        "colab_type": "text"
      },
      "source": [
        "<a href=\"https://colab.research.google.com/github/MAU143429/IA-Laboratorios/blob/Forward/Lab_RedNeuronal_Modificado.ipynb\" target=\"_parent\"><img src=\"https://colab.research.google.com/assets/colab-badge.svg\" alt=\"Open In Colab\"/></a>"
      ]
    },
    {
      "cell_type": "code",
      "metadata": {
        "id": "HqiC083T_6nm"
      },
      "source": [
        "#Autora: Adriana Álvarez F. \n",
        "# Since Collab is being used, it is necessary to install Pytorch\n",
        "import torch as torch\n",
        "\n",
        "import numpy as np\n",
        "from matplotlib import pyplot as plt\n",
        "from mpl_toolkits.mplot3d import Axes3D\n",
        "from matplotlib import cm\n"
      ],
      "execution_count": 2,
      "outputs": []
    },
    {
      "cell_type": "code",
      "metadata": {
        "id": "FSQf-LLRzfeX"
      },
      "source": [
        "def sigmoidalActivationFunction(x):\n",
        "  return (1/(1+(torch.exp(-x))))\n"
      ],
      "execution_count": 3,
      "outputs": []
    },
    {
      "cell_type": "code",
      "metadata": {
        "id": "04zLU2g2AKYG"
      },
      "source": [
        "def forward(weights,featuresT):\n",
        "  result=weights.mm(featuresT)\n",
        "  return sigmoidalActivationFunction(result)\n"
      ],
      "execution_count": 4,
      "outputs": []
    },
    {
      "cell_type": "code",
      "metadata": {
        "id": "vJ1qALlIgncZ"
      },
      "source": [
        "def countRows(matrix):\n",
        "  return matrix.size()[0]"
      ],
      "execution_count": 5,
      "outputs": []
    },
    {
      "cell_type": "code",
      "metadata": {
        "id": "85zqlgBBg0Tn"
      },
      "source": [
        "def countColumns(matrix):\n",
        "  return matrix.size()[1]"
      ],
      "execution_count": 6,
      "outputs": []
    },
    {
      "cell_type": "code",
      "metadata": {
        "id": "q5Geli2fcm9V"
      },
      "source": [
        "# Crea una matriz de tamano countHiddenLayer (rows) x countFeatures (columns) \n",
        "def randomWeights(rows, colums):\n",
        "  return (torch.rand(rows, colums))\n"
      ],
      "execution_count": 7,
      "outputs": []
    },
    {
      "cell_type": "code",
      "metadata": {
        "colab": {
          "base_uri": "https://localhost:8080/"
        },
        "id": "k1q_D3CoBAoK",
        "outputId": "65ec6a66-4227-4292-d40c-174693a4c939"
      },
      "source": [
        "x = torch.tensor([[0.05, 0.01], [0.02, 0.5], [2,4]])\n",
        "rows=countRows(x) # corresponde a la cantidad de observaciones del dataset, es decir, a la cantidad de observaciones\n",
        "columns=countColumns(x) #corresponde a la cantidad de features del dataset\n",
        "countNeuronsHiddenLayer1=1\n",
        "weights=randomWeights(countNeuronsHiddenLayer1, columns)\n",
        "#print(weights)\n",
        "featuresT=x.transpose(0,1)\n",
        "#print(featuresT)\n",
        "r = forward(weights,featuresT)\n",
        "print(r)\n"
      ],
      "execution_count": 8,
      "outputs": [
        {
          "output_type": "stream",
          "name": "stdout",
          "text": [
            "tensor([[0.5119, 0.6102, 0.9934]])\n"
          ]
        }
      ]
    }
  ]
}