{
  "nbformat": 4,
  "nbformat_minor": 0,
  "metadata": {
    "colab": {
      "provenance": [],
      "authorship_tag": "ABX9TyNBCcidzqN9XWG0U25tDJWM",
      "include_colab_link": true
    },
    "kernelspec": {
      "name": "python3",
      "display_name": "Python 3"
    },
    "language_info": {
      "name": "python"
    }
  },
  "cells": [
    {
      "cell_type": "markdown",
      "metadata": {
        "id": "view-in-github",
        "colab_type": "text"
      },
      "source": [
        "<a href=\"https://colab.research.google.com/github/MAU143429/IA-Laboratorios/blob/main/Laboratorio_Indices_de_Error.ipynb\" target=\"_parent\"><img src=\"https://colab.research.google.com/assets/colab-badge.svg\" alt=\"Open In Colab\"/></a>"
      ]
    },
    {
      "cell_type": "markdown",
      "source": [
        "# Laboratorio – Índices de error"
      ],
      "metadata": {
        "id": "T4ru8N42pIyy"
      }
    },
    {
      "cell_type": "code",
      "source": [
        "'''\n",
        "Importando las librerías que nos permiten generar los valores aleatorios\n",
        "y realizar los calculos.\n",
        "'''\n",
        "import random\n",
        "import decimal\n",
        "import statistics\n",
        "import math\n",
        "import matplotlib.pyplot as plt\n",
        "import numpy as np\n",
        "from sklearn import datasets\n"
      ],
      "metadata": {
        "id": "s10mXwCgqDV4"
      },
      "execution_count": 1,
      "outputs": []
    },
    {
      "cell_type": "markdown",
      "source": [
        "1. Genere un set de datos con comportamiento lineal (puede utilizar una librería\n",
        "para generar este set) de 100 mil datos, calcule la regresión lineal. Puede\n",
        "reutilizar los datos del lab de Regresión Lineal (5 pts)\n",
        "\n",
        "Gráfique en 2D las observaciones y sus errores como se muestra en la siguiente\n",
        "figuera (10 pts)\n",
        "\n",
        "![figura.png](data:image/png;base64,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)\n"
      ],
      "metadata": {
        "id": "Gi3mxDgNpNnl"
      }
    },
    {
      "cell_type": "code",
      "execution_count": 21,
      "metadata": {
        "id": "gOR53BgspElS"
      },
      "outputs": [],
      "source": [
        "x, y, coef = datasets.make_regression(n_samples=100,\n",
        "                                      n_features=1,\n",
        "                                      n_informative=1,\n",
        "                                      noise=100,\n",
        "                                      coef=True,\n",
        "                                      random_state=0) \n",
        "\n",
        "X = [item for value in x for item in value]\n",
        "Y = y.tolist()\n",
        "\n",
        "DataSet  = []\n",
        "DataSet.append(X)\n",
        "DataSet.append(Y)"
      ]
    },
    {
      "cell_type": "code",
      "source": [
        "# Algoritmo de Regresión Lineal utilizado en el Lab 1\n",
        "\n",
        "'''\n",
        "Método Linear Regression\n",
        "\n",
        "Este método permite generar una cantidad ¨n¨ de datos aleatorios.\n",
        "\n",
        "@param n es el numero de tuplas de datos a crear\n",
        "@return dataSet lista que contiene los datos creados.\n",
        "\n",
        "'''\n",
        "\n",
        "def LinearRegresion():\n",
        "    \n",
        "\n",
        "    add_xi_yi = 0\n",
        "    add_xi_xm_2 = 0\n",
        "    averageWeight = statistics.mean(DataSet[0])\n",
        "    averageHeight = statistics.mean(DataSet[1])\n",
        "    \n",
        "    add_xi_xm = 0\n",
        "    add_yi_ym = 0\n",
        "    \n",
        "    for index, element in enumerate(DataSet[0]):\n",
        "        \n",
        "        xi_xm = (element - averageWeight)\n",
        "        yi_ym = (DataSet[1][index] - averageHeight)\n",
        "        xi_xm_2 = (xi_xm**2)\n",
        "        \n",
        "        add_xi_xm += (xi_xm**2)\n",
        "        add_yi_ym += (yi_ym**2)\n",
        "        \n",
        "        add_xi_yi += xi_xm * yi_ym\n",
        "        add_xi_xm_2+=xi_xm_2\n",
        "        \n",
        "        \n",
        "    b = add_xi_yi / add_xi_xm_2\n",
        "    a = averageHeight - (b* averageWeight)\n",
        "    \n",
        "    print(\"La ecuación de regresión lineal es: \" + \"y = \" , b , \"x + \", a)\n",
        "      \n",
        "    \n",
        "    (m, b) = np.polyfit(DataSet[0], DataSet[1], 1)\n",
        "    yp = np.polyval([m,b],DataSet[0])\n",
        "    plt.plot(DataSet[0], yp)\n",
        "    plt.grid(True)\n",
        "    plt.scatter(DataSet[0],DataSet[1])\n",
        "\n",
        "    for x in range(len(DataSet[0])):\n",
        "      limit = []\n",
        "      limit.append((m*DataSet[0][x])+b)\n",
        "      limit.append(DataSet[1][x])\n",
        "      plt.vlines(x = DataSet[0][x], color = 'red',ymin = min(limit), ymax = max(limit))\n",
        "\n",
        "\n",
        "LinearRegresion()"
      ],
      "metadata": {
        "colab": {
          "base_uri": "https://localhost:8080/",
          "height": 283
        },
        "id": "oxEL6aUBupHB",
        "outputId": "b15b55a6-098b-4b47-ea1a-b223f09a7103"
      },
      "execution_count": 41,
      "outputs": [
        {
          "output_type": "stream",
          "name": "stdout",
          "text": [
            "La ecuación de regresión lineal es: y =  44.72475921130771 x +  -8.141818270307258\n"
          ]
        },
        {
          "output_type": "display_data",
          "data": {
            "text/plain": [
              "<Figure size 432x288 with 1 Axes>"
            ],
            "image/png": "[encoded data removed]"
          },
          "metadata": {
            "needs_background": "light"
          }
        }
      ]
    },
    {
      "cell_type": "markdown",
      "source": [
        "2. Calcule diferentes índices de error sobre la regresión. Los algoritmos deben ser\n",
        "programados por usted. No se permite que utilice métodos ya programados de\n",
        "librerías. \n",
        "\n",
        "*   Calcule el Error Medio Absoluto (MAE). (20 pts)\n",
        "\n",
        "\n",
        "\n"
      ],
      "metadata": {
        "id": "Tn0m4AU2pRiW"
      }
    },
    {
      "cell_type": "code",
      "source": [],
      "metadata": {
        "id": "vnXqhpFEpRt8"
      },
      "execution_count": null,
      "outputs": []
    },
    {
      "cell_type": "markdown",
      "source": [
        "*   Calcule el Error Medio Cuadrático (MSE). (20 pts)"
      ],
      "metadata": {
        "id": "tggNsaMCpR1v"
      }
    },
    {
      "cell_type": "code",
      "source": [],
      "metadata": {
        "id": "cqGaDylypR7L"
      },
      "execution_count": null,
      "outputs": []
    },
    {
      "cell_type": "markdown",
      "source": [
        "*   Calcule el Root Mean Squared Error (RMSE). (20 pts)\n"
      ],
      "metadata": {
        "id": "OqZn4HZQpSA1"
      }
    },
    {
      "cell_type": "code",
      "source": [],
      "metadata": {
        "id": "29JO7M07pSEe"
      },
      "execution_count": null,
      "outputs": []
    },
    {
      "cell_type": "markdown",
      "source": [
        "Saque conclusiones a partir de los índices de error calculados en este laboratorio.\n",
        "Sea analítico y extensivo en sus conclusiones.(25 pts)"
      ],
      "metadata": {
        "id": "_4azpJfRpm2o"
      }
    },
    {
      "cell_type": "code",
      "source": [],
      "metadata": {
        "id": "JCsWb817pm5w"
      },
      "execution_count": null,
      "outputs": []
    }
  ]
}